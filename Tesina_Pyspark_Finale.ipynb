{
  "nbformat": 4,
  "nbformat_minor": 0,
  "metadata": {
    "colab": {
      "name": "Tesina_Pyspark_Finale.ipynb",
      "provenance": [],
      "collapsed_sections": []
    },
    "kernelspec": {
      "name": "python3",
      "display_name": "Python 3"
    },
    "language_info": {
      "name": "python"
    }
  },
  "cells": [
    {
      "cell_type": "code",
      "source": [
        "import math as m"
      ],
      "metadata": {
        "id": "U8DGZteJ1b2b"
      },
      "execution_count": null,
      "outputs": []
    },
    {
      "cell_type": "code",
      "execution_count": null,
      "metadata": {
        "id": "1IlbKKmF1VCW"
      },
      "outputs": [],
      "source": [
        "def k_mers(s,k):\n",
        "  kmers=[]\n",
        "  for i in range(len(s)-k+1):\n",
        "    kmers.append(s[i:i+k])\n",
        "  return kmers\n",
        "\n",
        "k_mers(\"AAACGCT\",2)"
      ]
    },
    {
      "cell_type": "code",
      "source": [
        "# Funzione che conta il numero di occorrenze di una parola in una sequenza\n",
        "def count(w,s):\n",
        "  c=0\n",
        "  for i in range(len(s)-len(w)+1):\n",
        "    if w==s[i:i+len(w)]:\n",
        "      c+=1\n",
        "  return c"
      ],
      "metadata": {
        "id": "_0mM5jpLc9nc"
      },
      "execution_count": null,
      "outputs": []
    },
    {
      "cell_type": "code",
      "source": [
        "# Funziona che crea una lista contenente tutte le parole di lunghezza k da un certo vocabolario\n",
        "def All(s,k):\n",
        "  if k==1:\n",
        "    return s\n",
        "  output=[]\n",
        "  for i in s:\n",
        "    for j in All(s,k-1):\n",
        "      output.append(i+j)\n",
        "  return output\n",
        "\n",
        "All(\"ACGT\",3)"
      ],
      "metadata": {
        "id": "HojIK-v82g8a"
      },
      "execution_count": null,
      "outputs": []
    },
    {
      "cell_type": "code",
      "source": [
        "# Funzione che crea il vettore delle occorrenze \n",
        "def h(s,k):\n",
        "  output={}\n",
        "  for w in All(\"ACGT\",k):\n",
        "    output[w]=0\n",
        "  for w in k_mers(s,k):\n",
        "    output[w]=count(w,s)\n",
        "  return output\n",
        "\n",
        "s=\"AACCAA\"\n",
        "k=2\n",
        "x=h(s,k)"
      ],
      "metadata": {
        "id": "0m5C-KinfV5y"
      },
      "execution_count": null,
      "outputs": []
    },
    {
      "cell_type": "code",
      "source": [
        "for p in x.values():\n",
        "  print(p)"
      ],
      "metadata": {
        "id": "pAKP_MjE6Spk"
      },
      "execution_count": null,
      "outputs": []
    },
    {
      "cell_type": "code",
      "source": [
        "# Funzione che implementa la distanza euclidea tra due stringhe\n",
        "def euclidean(s,t,k):\n",
        "  if len(s)==len(t):\n",
        "   x=h(s,k)\n",
        "   x1=[]\n",
        "   for p in x.values():\n",
        "     x1.append(p)\n",
        "   y=h(t,k)\n",
        "   y1=[]\n",
        "   for p in y.values():\n",
        "     y1.append(p)\n",
        "   d=0\n",
        "   for i in range(len(s)):\n",
        "     d+=(x1[i]-y1[i])**2\n",
        "  return d\n",
        "\n"
      ],
      "metadata": {
        "id": "X4VKDnEJ50rp"
      },
      "execution_count": null,
      "outputs": []
    },
    {
      "cell_type": "code",
      "source": [
        "!apt-get install openjdk-8-jdk-headless -qq > /dev/null\n",
        "!wget -q https://downloads.apache.org/spark/spark-3.0.3/spark-3.0.3-bin-hadoop2.7.tgz\n",
        "!tar xf spark-3.0.3-bin-hadoop2.7.tgz\n",
        "!pip install -q findspark"
      ],
      "metadata": {
        "id": "BAij-Rhg1V1v"
      },
      "execution_count": null,
      "outputs": []
    },
    {
      "cell_type": "code",
      "source": [
        "import os\n",
        "import findspark\n",
        "os.environ[\"JAVA_HOME\"] = \"/usr/lib/jvm/java-8-openjdk-amd64\"\n",
        "os.environ[\"SPARK_HOME\"] = \"/content/spark-3.0.3-bin-hadoop2.7\""
      ],
      "metadata": {
        "id": "I3tGit-s1Vy9"
      },
      "execution_count": null,
      "outputs": []
    },
    {
      "cell_type": "code",
      "source": [
        "findspark.init()"
      ],
      "metadata": {
        "id": "1YfiYMKb1VwQ"
      },
      "execution_count": null,
      "outputs": []
    },
    {
      "cell_type": "code",
      "source": [
        "!wget https://bin.equinox.io/c/4VmDzA7iaHb/ngrok-stable-linux-amd64.tgz\n",
        "!tar xvfz ngrok-stable-linux-amd64.tgz"
      ],
      "metadata": {
        "id": "FUydnP8z1Vtq"
      },
      "execution_count": null,
      "outputs": []
    },
    {
      "cell_type": "code",
      "source": [
        "!pip install pyngrok"
      ],
      "metadata": {
        "id": "ncADw99z1VrF"
      },
      "execution_count": null,
      "outputs": []
    },
    {
      "cell_type": "code",
      "source": [
        "from pyspark.sql import SparkSession\n",
        "\n",
        "spark = SparkSession.builder\\\n",
        "        .master(\"local[*]\")\\\n",
        "        .appName(\"GEBD 2122\")\\\n",
        "        .config('spark.ui.port', '4050')\\\n",
        "        .getOrCreate()\n",
        "        \n",
        "sc = spark.sparkContext"
      ],
      "metadata": {
        "id": "Gr67caLi1Vok"
      },
      "execution_count": null,
      "outputs": []
    },
    {
      "cell_type": "code",
      "source": [
        "!killall ngrok"
      ],
      "metadata": {
        "id": "PMkDeLHw1VmI"
      },
      "execution_count": null,
      "outputs": []
    },
    {
      "cell_type": "code",
      "source": [
        "!./ngrok authtoken 22MppDcRusuK7c4t3UoVIgZ0W00_5WGzspSFKUHYNyETBXZGE "
      ],
      "metadata": {
        "id": "svgye5my1VjY"
      },
      "execution_count": null,
      "outputs": []
    },
    {
      "cell_type": "code",
      "source": [
        "!./ngrok http 4050"
      ],
      "metadata": {
        "id": "l9W85huC1Vgp"
      },
      "execution_count": null,
      "outputs": []
    },
    {
      "cell_type": "code",
      "source": [
        "from pyngrok import ngrok\n",
        "\n",
        "#publ_url = ngrok.connect(addr='4050')\n",
        "#ngrok.disconnect(publ_url.public_url)\n",
        "publ_url = ngrok.connect(4050,'http')\n",
        "print(publ_url)"
      ],
      "metadata": {
        "id": "avc07OzR1tuI"
      },
      "execution_count": null,
      "outputs": []
    },
    {
      "cell_type": "code",
      "source": [
        "b1 = sc.textFile(\"NC_009057.fasta\")\n",
        "b2 = sc.textFile(\"NC_009063.fasta\")\n",
        "\n",
        "\n",
        "kmer1 = b1.filter(lambda x: '>NC_009057' not in x)\n",
        "kmer1=kmer1.map(lambda x: x.lower().strip(',.;:!?()-')).flatMap(lambda x: k_mers(x,15)).map(lambda x: (x,1))\n",
        "kmer1=kmer1.reduceByKey(lambda x,y: x+y)\n",
        "\n",
        "kmer2 = b2.filter(lambda x: '>NC_009063' not in x)\n",
        "kmer2=kmer2.map(lambda x: x.lower().strip(',.;:!?()-')).flatMap(lambda x: k_mers(x,15)).map(lambda x: (x,1))\n",
        "kmer2=kmer2.reduceByKey(lambda x,y: x+y)\n",
        "\n",
        "\n",
        "# Distanza euclidea\n",
        "kmer=kmer1.union(kmer2).reduceByKey(lambda x,y: (x-y)**2)\n",
        "\n",
        "print(m.sqrt(kmer.values().sum()))\n",
        "\n",
        "# Distanza D2\n",
        "kmer=kmer1.union(kmer2).reduceByKey(lambda x,y: x*y)\n",
        "\n",
        "print(kmer.values().sum())"
      ],
      "metadata": {
        "id": "BMrX12C31trl"
      },
      "execution_count": null,
      "outputs": []
    },
    {
      "cell_type": "code",
      "source": [],
      "metadata": {
        "id": "HeD6_JyvJONf"
      },
      "execution_count": null,
      "outputs": []
    },
    {
      "cell_type": "code",
      "source": [],
      "metadata": {
        "id": "5u6fp6ERJOKF"
      },
      "execution_count": null,
      "outputs": []
    },
    {
      "cell_type": "code",
      "source": [],
      "metadata": {
        "id": "H3yVsLr3SCiR"
      },
      "execution_count": null,
      "outputs": []
    }
  ]
}